{
 "cells": [
  {
   "cell_type": "code",
   "execution_count": 99,
   "id": "c4ace9da",
   "metadata": {},
   "outputs": [],
   "source": [
    "import redis"
   ]
  },
  {
   "cell_type": "code",
   "execution_count": 103,
   "id": "7ec325ba",
   "metadata": {},
   "outputs": [
    {
     "data": {
      "text/plain": [
       "['yyyy:2', 'yyyy:1', 'yyyy', 'yyyy:3']"
      ]
     },
     "execution_count": 103,
     "metadata": {},
     "output_type": "execute_result"
    }
   ],
   "source": [
    "rd = redis.Redis(host = \"redis-lb-static-6417c34dfdf10c08.elb.us-east-1.amazonaws.com\",port = 6379,password = \"cryogen\",charset=\"utf-8\", decode_responses=True)\n",
    "rd.ping()\n",
    "rd.keys()"
   ]
  },
  {
   "cell_type": "code",
   "execution_count": 93,
   "id": "6402ba5b",
   "metadata": {},
   "outputs": [
    {
     "data": {
      "text/plain": [
       "True"
      ]
     },
     "execution_count": 93,
     "metadata": {},
     "output_type": "execute_result"
    }
   ],
   "source": [
    "rd.set(\"yyyy:3\",\"uuu\")"
   ]
  },
  {
   "cell_type": "code",
   "execution_count": 102,
   "id": "46195d3b",
   "metadata": {},
   "outputs": [
    {
     "data": {
      "text/plain": [
       "'uuu'"
      ]
     },
     "execution_count": 102,
     "metadata": {},
     "output_type": "execute_result"
    }
   ],
   "source": [
    "rd.get('yyyy')"
   ]
  },
  {
   "cell_type": "code",
   "execution_count": 96,
   "id": "b232b43d",
   "metadata": {},
   "outputs": [],
   "source": [
    "rd.get('user:101:name')"
   ]
  },
  {
   "cell_type": "code",
   "execution_count": 54,
   "id": "6696191e",
   "metadata": {},
   "outputs": [
    {
     "ename": "ConnectionError",
     "evalue": "Error 10054 while writing to socket. An existing connection was forcibly closed by the remote host.",
     "output_type": "error",
     "traceback": [
      "\u001b[1;31m---------------------------------------------------------------------------\u001b[0m",
      "\u001b[1;31mConnectionResetError\u001b[0m                      Traceback (most recent call last)",
      "File \u001b[1;32m~\\anaconda3\\Lib\\site-packages\\redis\\connection.py:442\u001b[0m, in \u001b[0;36mAbstractConnection.send_packed_command\u001b[1;34m(self, command, check_health)\u001b[0m\n\u001b[0;32m    441\u001b[0m     \u001b[38;5;28;01mfor\u001b[39;00m item \u001b[38;5;129;01min\u001b[39;00m command:\n\u001b[1;32m--> 442\u001b[0m         \u001b[38;5;28mself\u001b[39m\u001b[38;5;241m.\u001b[39m_sock\u001b[38;5;241m.\u001b[39msendall(item)\n\u001b[0;32m    443\u001b[0m \u001b[38;5;28;01mexcept\u001b[39;00m socket\u001b[38;5;241m.\u001b[39mtimeout:\n",
      "\u001b[1;31mConnectionResetError\u001b[0m: [WinError 10054] An existing connection was forcibly closed by the remote host",
      "\nDuring handling of the above exception, another exception occurred:\n",
      "\u001b[1;31mConnectionError\u001b[0m                           Traceback (most recent call last)",
      "Cell \u001b[1;32mIn[54], line 5\u001b[0m\n\u001b[0;32m      1\u001b[0m r \u001b[38;5;241m=\u001b[39m redis\u001b[38;5;241m.\u001b[39mStrictRedis(host\u001b[38;5;241m=\u001b[39m\u001b[38;5;124m'\u001b[39m\u001b[38;5;124m18.234.105.232\u001b[39m\u001b[38;5;124m'\u001b[39m, port\u001b[38;5;241m=\u001b[39m\u001b[38;5;241m6379\u001b[39m)\n\u001b[0;32m      3\u001b[0m \u001b[38;5;66;03m# Test the connection\u001b[39;00m\n\u001b[1;32m----> 5\u001b[0m r\u001b[38;5;241m.\u001b[39mping()\n\u001b[0;32m      6\u001b[0m \u001b[38;5;28mprint\u001b[39m(\u001b[38;5;124m\"\u001b[39m\u001b[38;5;124mConnected to Redis!\u001b[39m\u001b[38;5;124m\"\u001b[39m)\n",
      "File \u001b[1;32m~\\anaconda3\\Lib\\site-packages\\redis\\commands\\core.py:1216\u001b[0m, in \u001b[0;36mManagementCommands.ping\u001b[1;34m(self, **kwargs)\u001b[0m\n\u001b[0;32m   1210\u001b[0m \u001b[38;5;28;01mdef\u001b[39;00m \u001b[38;5;21mping\u001b[39m(\u001b[38;5;28mself\u001b[39m, \u001b[38;5;241m*\u001b[39m\u001b[38;5;241m*\u001b[39mkwargs) \u001b[38;5;241m-\u001b[39m\u001b[38;5;241m>\u001b[39m ResponseT:\n\u001b[0;32m   1211\u001b[0m \u001b[38;5;250m    \u001b[39m\u001b[38;5;124;03m\"\"\"\u001b[39;00m\n\u001b[0;32m   1212\u001b[0m \u001b[38;5;124;03m    Ping the Redis server\u001b[39;00m\n\u001b[0;32m   1213\u001b[0m \n\u001b[0;32m   1214\u001b[0m \u001b[38;5;124;03m    For more information see https://redis.io/commands/ping\u001b[39;00m\n\u001b[0;32m   1215\u001b[0m \u001b[38;5;124;03m    \"\"\"\u001b[39;00m\n\u001b[1;32m-> 1216\u001b[0m     \u001b[38;5;28;01mreturn\u001b[39;00m \u001b[38;5;28mself\u001b[39m\u001b[38;5;241m.\u001b[39mexecute_command(\u001b[38;5;124m\"\u001b[39m\u001b[38;5;124mPING\u001b[39m\u001b[38;5;124m\"\u001b[39m, \u001b[38;5;241m*\u001b[39m\u001b[38;5;241m*\u001b[39mkwargs)\n",
      "File \u001b[1;32m~\\anaconda3\\Lib\\site-packages\\redis\\client.py:533\u001b[0m, in \u001b[0;36mRedis.execute_command\u001b[1;34m(self, *args, **options)\u001b[0m\n\u001b[0;32m    531\u001b[0m pool \u001b[38;5;241m=\u001b[39m \u001b[38;5;28mself\u001b[39m\u001b[38;5;241m.\u001b[39mconnection_pool\n\u001b[0;32m    532\u001b[0m command_name \u001b[38;5;241m=\u001b[39m args[\u001b[38;5;241m0\u001b[39m]\n\u001b[1;32m--> 533\u001b[0m conn \u001b[38;5;241m=\u001b[39m \u001b[38;5;28mself\u001b[39m\u001b[38;5;241m.\u001b[39mconnection \u001b[38;5;129;01mor\u001b[39;00m pool\u001b[38;5;241m.\u001b[39mget_connection(command_name, \u001b[38;5;241m*\u001b[39m\u001b[38;5;241m*\u001b[39moptions)\n\u001b[0;32m    535\u001b[0m \u001b[38;5;28;01mtry\u001b[39;00m:\n\u001b[0;32m    536\u001b[0m     \u001b[38;5;28;01mreturn\u001b[39;00m conn\u001b[38;5;241m.\u001b[39mretry\u001b[38;5;241m.\u001b[39mcall_with_retry(\n\u001b[0;32m    537\u001b[0m         \u001b[38;5;28;01mlambda\u001b[39;00m: \u001b[38;5;28mself\u001b[39m\u001b[38;5;241m.\u001b[39m_send_command_parse_response(\n\u001b[0;32m    538\u001b[0m             conn, command_name, \u001b[38;5;241m*\u001b[39margs, \u001b[38;5;241m*\u001b[39m\u001b[38;5;241m*\u001b[39moptions\n\u001b[0;32m    539\u001b[0m         ),\n\u001b[0;32m    540\u001b[0m         \u001b[38;5;28;01mlambda\u001b[39;00m error: \u001b[38;5;28mself\u001b[39m\u001b[38;5;241m.\u001b[39m_disconnect_raise(conn, error),\n\u001b[0;32m    541\u001b[0m     )\n",
      "File \u001b[1;32m~\\anaconda3\\Lib\\site-packages\\redis\\connection.py:1086\u001b[0m, in \u001b[0;36mConnectionPool.get_connection\u001b[1;34m(self, command_name, *keys, **options)\u001b[0m\n\u001b[0;32m   1082\u001b[0m     \u001b[38;5;28mself\u001b[39m\u001b[38;5;241m.\u001b[39m_in_use_connections\u001b[38;5;241m.\u001b[39madd(connection)\n\u001b[0;32m   1084\u001b[0m \u001b[38;5;28;01mtry\u001b[39;00m:\n\u001b[0;32m   1085\u001b[0m     \u001b[38;5;66;03m# ensure this connection is connected to Redis\u001b[39;00m\n\u001b[1;32m-> 1086\u001b[0m     connection\u001b[38;5;241m.\u001b[39mconnect()\n\u001b[0;32m   1087\u001b[0m     \u001b[38;5;66;03m# connections that the pool provides should be ready to send\u001b[39;00m\n\u001b[0;32m   1088\u001b[0m     \u001b[38;5;66;03m# a command. if not, the connection was either returned to the\u001b[39;00m\n\u001b[0;32m   1089\u001b[0m     \u001b[38;5;66;03m# pool before all data has been read or the socket has been\u001b[39;00m\n\u001b[0;32m   1090\u001b[0m     \u001b[38;5;66;03m# closed. either way, reconnect and verify everything is good.\u001b[39;00m\n\u001b[0;32m   1091\u001b[0m     \u001b[38;5;28;01mtry\u001b[39;00m:\n",
      "File \u001b[1;32m~\\anaconda3\\Lib\\site-packages\\redis\\connection.py:276\u001b[0m, in \u001b[0;36mAbstractConnection.connect\u001b[1;34m(self)\u001b[0m\n\u001b[0;32m    273\u001b[0m \u001b[38;5;28;01mtry\u001b[39;00m:\n\u001b[0;32m    274\u001b[0m     \u001b[38;5;28;01mif\u001b[39;00m \u001b[38;5;28mself\u001b[39m\u001b[38;5;241m.\u001b[39mredis_connect_func \u001b[38;5;129;01mis\u001b[39;00m \u001b[38;5;28;01mNone\u001b[39;00m:\n\u001b[0;32m    275\u001b[0m         \u001b[38;5;66;03m# Use the default on_connect function\u001b[39;00m\n\u001b[1;32m--> 276\u001b[0m         \u001b[38;5;28mself\u001b[39m\u001b[38;5;241m.\u001b[39mon_connect()\n\u001b[0;32m    277\u001b[0m     \u001b[38;5;28;01melse\u001b[39;00m:\n\u001b[0;32m    278\u001b[0m         \u001b[38;5;66;03m# Use the passed function redis_connect_func\u001b[39;00m\n\u001b[0;32m    279\u001b[0m         \u001b[38;5;28mself\u001b[39m\u001b[38;5;241m.\u001b[39mredis_connect_func(\u001b[38;5;28mself\u001b[39m)\n",
      "File \u001b[1;32m~\\anaconda3\\Lib\\site-packages\\redis\\connection.py:385\u001b[0m, in \u001b[0;36mAbstractConnection.on_connect\u001b[1;34m(self)\u001b[0m\n\u001b[0;32m    383\u001b[0m \u001b[38;5;28;01mtry\u001b[39;00m:\n\u001b[0;32m    384\u001b[0m     \u001b[38;5;28;01mif\u001b[39;00m \u001b[38;5;28mself\u001b[39m\u001b[38;5;241m.\u001b[39mlib_version:\n\u001b[1;32m--> 385\u001b[0m         \u001b[38;5;28mself\u001b[39m\u001b[38;5;241m.\u001b[39msend_command(\u001b[38;5;124m\"\u001b[39m\u001b[38;5;124mCLIENT\u001b[39m\u001b[38;5;124m\"\u001b[39m, \u001b[38;5;124m\"\u001b[39m\u001b[38;5;124mSETINFO\u001b[39m\u001b[38;5;124m\"\u001b[39m, \u001b[38;5;124m\"\u001b[39m\u001b[38;5;124mLIB-VER\u001b[39m\u001b[38;5;124m\"\u001b[39m, \u001b[38;5;28mself\u001b[39m\u001b[38;5;241m.\u001b[39mlib_version)\n\u001b[0;32m    386\u001b[0m         \u001b[38;5;28mself\u001b[39m\u001b[38;5;241m.\u001b[39mread_response()\n\u001b[0;32m    387\u001b[0m \u001b[38;5;28;01mexcept\u001b[39;00m ResponseError:\n",
      "File \u001b[1;32m~\\anaconda3\\Lib\\site-packages\\redis\\connection.py:464\u001b[0m, in \u001b[0;36mAbstractConnection.send_command\u001b[1;34m(self, *args, **kwargs)\u001b[0m\n\u001b[0;32m    462\u001b[0m \u001b[38;5;28;01mdef\u001b[39;00m \u001b[38;5;21msend_command\u001b[39m(\u001b[38;5;28mself\u001b[39m, \u001b[38;5;241m*\u001b[39margs, \u001b[38;5;241m*\u001b[39m\u001b[38;5;241m*\u001b[39mkwargs):\n\u001b[0;32m    463\u001b[0m \u001b[38;5;250m    \u001b[39m\u001b[38;5;124;03m\"\"\"Pack and send a command to the Redis server\"\"\"\u001b[39;00m\n\u001b[1;32m--> 464\u001b[0m     \u001b[38;5;28mself\u001b[39m\u001b[38;5;241m.\u001b[39msend_packed_command(\n\u001b[0;32m    465\u001b[0m         \u001b[38;5;28mself\u001b[39m\u001b[38;5;241m.\u001b[39m_command_packer\u001b[38;5;241m.\u001b[39mpack(\u001b[38;5;241m*\u001b[39margs),\n\u001b[0;32m    466\u001b[0m         check_health\u001b[38;5;241m=\u001b[39mkwargs\u001b[38;5;241m.\u001b[39mget(\u001b[38;5;124m\"\u001b[39m\u001b[38;5;124mcheck_health\u001b[39m\u001b[38;5;124m\"\u001b[39m, \u001b[38;5;28;01mTrue\u001b[39;00m),\n\u001b[0;32m    467\u001b[0m     )\n",
      "File \u001b[1;32m~\\anaconda3\\Lib\\site-packages\\redis\\connection.py:453\u001b[0m, in \u001b[0;36mAbstractConnection.send_packed_command\u001b[1;34m(self, command, check_health)\u001b[0m\n\u001b[0;32m    451\u001b[0m         errno \u001b[38;5;241m=\u001b[39m e\u001b[38;5;241m.\u001b[39margs[\u001b[38;5;241m0\u001b[39m]\n\u001b[0;32m    452\u001b[0m         errmsg \u001b[38;5;241m=\u001b[39m e\u001b[38;5;241m.\u001b[39margs[\u001b[38;5;241m1\u001b[39m]\n\u001b[1;32m--> 453\u001b[0m     \u001b[38;5;28;01mraise\u001b[39;00m \u001b[38;5;167;01mConnectionError\u001b[39;00m(\u001b[38;5;124mf\u001b[39m\u001b[38;5;124m\"\u001b[39m\u001b[38;5;124mError \u001b[39m\u001b[38;5;132;01m{\u001b[39;00merrno\u001b[38;5;132;01m}\u001b[39;00m\u001b[38;5;124m while writing to socket. \u001b[39m\u001b[38;5;132;01m{\u001b[39;00merrmsg\u001b[38;5;132;01m}\u001b[39;00m\u001b[38;5;124m.\u001b[39m\u001b[38;5;124m\"\u001b[39m)\n\u001b[0;32m    454\u001b[0m \u001b[38;5;28;01mexcept\u001b[39;00m \u001b[38;5;167;01mBaseException\u001b[39;00m:\n\u001b[0;32m    455\u001b[0m     \u001b[38;5;66;03m# BaseExceptions can be raised when a socket send operation is not\u001b[39;00m\n\u001b[0;32m    456\u001b[0m     \u001b[38;5;66;03m# finished, e.g. due to a timeout.  Ideally, a caller could then re-try\u001b[39;00m\n\u001b[0;32m    457\u001b[0m     \u001b[38;5;66;03m# to send un-sent data. However, the send_packed_command() API\u001b[39;00m\n\u001b[0;32m    458\u001b[0m     \u001b[38;5;66;03m# does not support it so there is no point in keeping the connection open.\u001b[39;00m\n\u001b[0;32m    459\u001b[0m     \u001b[38;5;28mself\u001b[39m\u001b[38;5;241m.\u001b[39mdisconnect()\n",
      "\u001b[1;31mConnectionError\u001b[0m: Error 10054 while writing to socket. An existing connection was forcibly closed by the remote host."
     ]
    }
   ],
   "source": [
    "r = redis.StrictRedis(host='18.234.105.232', port=6379)\n",
    "\n",
    "# Test the connection\n",
    "\n",
    "r.ping()\n",
    "print(\"Connected to Redis!\")"
   ]
  },
  {
   "cell_type": "code",
   "execution_count": 77,
   "id": "3e722380",
   "metadata": {},
   "outputs": [
    {
     "data": {
      "text/plain": [
       "True"
      ]
     },
     "execution_count": 77,
     "metadata": {},
     "output_type": "execute_result"
    }
   ],
   "source": [
    "r = redis.from_url('redis://ec2-18-234-105-232.compute-1.amazonaws.com:6379',password = \"cryogen\")\n",
    "r.ping()"
   ]
  },
  {
   "cell_type": "code",
   "execution_count": null,
   "id": "06195a7f",
   "metadata": {},
   "outputs": [],
   "source": []
  }
 ],
 "metadata": {
  "kernelspec": {
   "display_name": "Python 3 (ipykernel)",
   "language": "python",
   "name": "python3"
  },
  "language_info": {
   "codemirror_mode": {
    "name": "ipython",
    "version": 3
   },
   "file_extension": ".py",
   "mimetype": "text/x-python",
   "name": "python",
   "nbconvert_exporter": "python",
   "pygments_lexer": "ipython3",
   "version": "3.11.5"
  }
 },
 "nbformat": 4,
 "nbformat_minor": 5
}
