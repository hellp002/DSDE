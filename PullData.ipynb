{
 "cells": [
  {
   "cell_type": "code",
   "execution_count": 23,
   "id": "c4ace9da",
   "metadata": {},
   "outputs": [],
   "source": [
    "import redis\n",
    "import pandas as pd\n",
    "import re\n",
    "from tqdm.notebook import tqdm\n",
    "import threading\n",
    "import time\n",
    "import numpy as np\n",
    "from concurrent.futures import ThreadPoolExecutor, as_completed"
   ]
  },
  {
   "cell_type": "code",
   "execution_count": 29,
   "id": "7ec325ba",
   "metadata": {},
   "outputs": [
    {
     "data": {
      "text/plain": [
       "True"
      ]
     },
     "execution_count": 29,
     "metadata": {},
     "output_type": "execute_result"
    }
   ],
   "source": [
    "rd = redis.Redis(host = \"107.22.67.15\",port = 6379,password = \"cryogen\",charset=\"utf-8\", decode_responses=True)\n",
    "rd.ping()"
   ]
  },
  {
   "cell_type": "code",
   "execution_count": 30,
   "id": "f07eac95",
   "metadata": {},
   "outputs": [
    {
     "data": {
      "text/html": [
       "<div>\n",
       "<style scoped>\n",
       "    .dataframe tbody tr th:only-of-type {\n",
       "        vertical-align: middle;\n",
       "    }\n",
       "\n",
       "    .dataframe tbody tr th {\n",
       "        vertical-align: top;\n",
       "    }\n",
       "\n",
       "    .dataframe thead th {\n",
       "        text-align: right;\n",
       "    }\n",
       "</style>\n",
       "<table border=\"1\" class=\"dataframe\">\n",
       "  <thead>\n",
       "    <tr style=\"text-align: right;\">\n",
       "      <th></th>\n",
       "      <th>author_name</th>\n",
       "      <th>title</th>\n",
       "      <th>abstracts</th>\n",
       "      <th>related_field</th>\n",
       "      <th>auth_keywords</th>\n",
       "      <th>publish_day</th>\n",
       "      <th>publish_month</th>\n",
       "      <th>publish_year</th>\n",
       "      <th>ref_count</th>\n",
       "      <th>ref_authors</th>\n",
       "      <th>ref_titles</th>\n",
       "      <th>cited_count</th>\n",
       "    </tr>\n",
       "    <tr>\n",
       "      <th>scopus_id</th>\n",
       "      <th></th>\n",
       "      <th></th>\n",
       "      <th></th>\n",
       "      <th></th>\n",
       "      <th></th>\n",
       "      <th></th>\n",
       "      <th></th>\n",
       "      <th></th>\n",
       "      <th></th>\n",
       "      <th></th>\n",
       "      <th></th>\n",
       "      <th></th>\n",
       "    </tr>\n",
       "  </thead>\n",
       "  <tbody>\n",
       "  </tbody>\n",
       "</table>\n",
       "</div>"
      ],
      "text/plain": [
       "Empty DataFrame\n",
       "Columns: [author_name, title, abstracts, related_field, auth_keywords, publish_day, publish_month, publish_year, ref_count, ref_authors, ref_titles, cited_count]\n",
       "Index: []"
      ]
     },
     "execution_count": 30,
     "metadata": {},
     "output_type": "execute_result"
    }
   ],
   "source": [
    "loaded_df = None\n",
    "try:\n",
    "    loaded_df = pd.read_csv(\"target_df.csv\",index_col=\"scopus_id\")\n",
    "except:\n",
    "    loaded_df = pd.DataFrame({\"scopus_id\" : pd.Series(dtype = \"object\"),\n",
    "              \"author_name\" : pd.Series(dtype = \"object\"),\n",
    "             \"title\" : pd.Series(dtype = \"object\"),\n",
    "             \"abstracts\" : pd.Series(dtype = \"object\"),\n",
    "             \"related_field\" : pd.Series(dtype = \"object\"),\n",
    "             \"auth_keywords\" : pd.Series(dtype = \"object\"),\n",
    "              \"publish_day\" : pd.Series(dtype = \"object\"),\n",
    "              \"publish_month\" : pd.Series(dtype = \"object\"),\n",
    "              \"publish_year\" : pd.Series(dtype = \"object\"),\n",
    "              \"ref_count\" : pd.Series(dtype = \"int64\"),\n",
    "              \"ref_authors\" : pd.Series(dtype = \"object\"),\n",
    "              \"ref_titles\" : pd.Series(dtype = \"object\"),\n",
    "              \"cited_count\" : pd.Series(dtype = \"int64\"),\n",
    "             })\n",
    "    loaded_df = loaded_df.set_index(\"scopus_id\")\n",
    "loaded_df"
   ]
  },
  {
   "cell_type": "code",
   "execution_count": 52,
   "id": "e252eb72",
   "metadata": {},
   "outputs": [],
   "source": [
    "def multiThreadQuery(thread_size = 8,mykey = \"scopus:\"):\n",
    "    cache = set([re.sub(mykey,\"\",k) for k in rd.keys(mykey + \"*\")])\n",
    "    pull_keys = np.array(list(cache - set(loaded_df.index.values.astype(str))))\n",
    "    my_zipper = []\n",
    "    \n",
    "    def pull(key):\n",
    "        nonlocal my_zipper\n",
    "        result = rd.hgetall(f\"{mykey}{key}\")\n",
    "        my_zipper.append((key,result['author_name'],result['title'],result['abstracts'],result['related_field'],result['auth_keywords'],result['publish_day'],result['publish_month'],result['publish_year'],result['ref_count'],result[\"ref_authors\"],result[\"ref_titles\"],result['cited_count']))\n",
    "        \n",
    "    with tqdm(total = len(pull_keys)) as pbar:\n",
    "        with ThreadPoolExecutor(max_workers=thread_size) as executor:\n",
    "            future = [executor.submit(pull,key) for key in pull_keys]\n",
    "            for f in as_completed(future):\n",
    "                pbar.update(1)     \n",
    "    col = [\"scopus_id\",\"author_name\",\"title\",\"abstracts\",\"related_field\",\"auth_keywords\",\"publish_day\",\"publish_month\",\"publish_year\",\"ref_count\",\"ref_authors\",\"ref_titles\",\"cited_count\"]\n",
    "    arr = list(zip(*my_zipper))\n",
    "    datapoint = {key : list(value) for key, value in zip(col,zip(*my_zipper))}\n",
    "    added_df = pd.DataFrame(datapoint)\n",
    "    if not added_df.empty:\n",
    "        added_df['scopus_id'] = added_df['scopus_id'].astype(str)\n",
    "        added_df = added_df.set_index('scopus_id')\n",
    "        saved_df = pd.concat([loaded_df,added_df],axis = 0)\n",
    "        saved_df.to_csv(\"target_df.csv\")\n",
    "    \n",
    "    return "
   ]
  },
  {
   "cell_type": "code",
   "execution_count": 55,
   "id": "13e233f8",
   "metadata": {},
   "outputs": [
    {
     "data": {
      "application/vnd.jupyter.widget-view+json": {
       "model_id": "d7aa36229bda4518bbd35dff04abdf59",
       "version_major": 2,
       "version_minor": 0
      },
      "text/plain": [
       "  0%|          | 0/19200 [00:00<?, ?it/s]"
      ]
     },
     "metadata": {},
     "output_type": "display_data"
    }
   ],
   "source": [
    "multiThreadQuery(2048,\"scopus:\")"
   ]
  },
  {
   "cell_type": "code",
   "execution_count": null,
   "id": "5a417749",
   "metadata": {},
   "outputs": [],
   "source": []
  }
 ],
 "metadata": {
  "kernelspec": {
   "display_name": "Python 3 (ipykernel)",
   "language": "python",
   "name": "python3"
  },
  "language_info": {
   "codemirror_mode": {
    "name": "ipython",
    "version": 3
   },
   "file_extension": ".py",
   "mimetype": "text/x-python",
   "name": "python",
   "nbconvert_exporter": "python",
   "pygments_lexer": "ipython3",
   "version": "3.11.5"
  }
 },
 "nbformat": 4,
 "nbformat_minor": 5
}
